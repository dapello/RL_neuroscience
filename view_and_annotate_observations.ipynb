{
 "cells": [
  {
   "cell_type": "code",
   "execution_count": 129,
   "metadata": {},
   "outputs": [],
   "source": [
    "import os\n",
    "\n",
    "import numpy as np\n",
    "import pandas as pd\n",
    "import h5py as h5\n",
    "import matplotlib.pyplot as plt\n",
    "import seaborn as sns\n",
    "\n",
    "sns.set(style=\"darkgrid\")\n",
    "sns.set_context('talk')\n",
    "%matplotlib inline"
   ]
  },
  {
   "cell_type": "code",
   "execution_count": 130,
   "metadata": {},
   "outputs": [],
   "source": [
    "get_data = lambda path : h5.File(path, 'r')['obj_arr'].value.astype('float32')[:,0]\n",
    "\n",
    "def plot_obs(DIR):\n",
    "    files = [os.path.join(DIR,file) for file in os.listdir(DIR)]\n",
    "    obss = [file for file in files if 'obss' in file][0]\n",
    "    obss_data = get_data(obss)\n",
    "    obss_data.shape\n",
    "\n",
    "    done = [file for file in files if 'done' in file][0]\n",
    "    done_data = get_data(done)\n",
    "\n",
    "    for i, (obs, done) in enumerate(zip(obss_data, done_data)):\n",
    "        plt.imshow(obs/5)\n",
    "        plt.title('observation {}. done: {}'.format(i+1, done))\n",
    "        plt.show()"
   ]
  },
  {
   "cell_type": "code",
   "execution_count": 131,
   "metadata": {},
   "outputs": [],
   "source": [
    "check_see_door = lambda obs : (4 in obs[:,:,0])\n",
    "check_door_locked = lambda obs : (4 in obs[:,:,0])&(2 in obs[:,:,-1])\n",
    "check_see_key = lambda obs : (5 in obs[:,:,0])&(obs[3,6,0]!=5)\n",
    "check_has_key = lambda obs : (obs[3,6,0]==5)\n",
    "check_see_goal = lambda obs : (8 in obs[:,:,0])\n",
    "\n",
    "def annotate_obs(DIR, plot=True):\n",
    "    # grab files associated with DIR\n",
    "    files = [os.path.join(DIR,file) for file in os.listdir(DIR)]\n",
    "    \n",
    "    # open and grab data observation and task data\n",
    "    obss = [file for file in files if 'obss' in file][0]\n",
    "    obss_data = get_data(obss)\n",
    "\n",
    "    done = [file for file in files if 'done' in file][0]\n",
    "    done_data = get_data(done)\n",
    "\n",
    "    annotations = []\n",
    "    # walk observations checking details\n",
    "    for i, (obs, done) in enumerate(zip(obss_data, done_data)):\n",
    "        see_door = check_see_door(obs)\n",
    "        \n",
    "        if see_door:\n",
    "            door_locked = check_door_locked(obs)\n",
    "        else:\n",
    "            if len(annotations) == 0:\n",
    "                door_locked = True\n",
    "            else:\n",
    "                door_locked = annotations[-1][1]\n",
    "                \n",
    "        see_key = check_see_key(obs)\n",
    "        has_key = check_has_key(obs)\n",
    "        see_goal = check_see_goal(obs)\n",
    "        \n",
    "        annotations.append([\n",
    "            see_door,\n",
    "            door_locked,\n",
    "            see_key,\n",
    "            has_key,\n",
    "            see_goal\n",
    "        ])\n",
    "        \n",
    "        if plot:\n",
    "            plt.imshow(obs/5)\n",
    "            print('observation {}. see door:{}, door locked:{},, see key:{}, has key:{}, see goal:{}, done: {}'.format(\n",
    "                i+1, \n",
    "                see_door,\n",
    "                door_locked,\n",
    "                see_key, \n",
    "                has_key, \n",
    "                see_goal, \n",
    "                done))\n",
    "            plt.show()\n",
    "        \n",
    "    return pd.DataFrame(columns=['see_door', 'door_locked', 'see_key', 'has_key', 'see_goal'], data=annotations)"
   ]
  },
  {
   "cell_type": "code",
   "execution_count": 125,
   "metadata": {
    "scrolled": false
   },
   "outputs": [],
   "source": [
    "DIR = 'feature_dir/DoorKey/env_MiniGrid-DoorKey-16x16-v0-ep_1-return_0.9876953363418579-frames_35.0/'\n",
    "annotations = annotate_obs(DIR, plot=False)"
   ]
  },
  {
   "cell_type": "code",
   "execution_count": 132,
   "metadata": {},
   "outputs": [
    {
     "name": "stdout",
     "output_type": "stream",
     "text": [
      "feature_dir/DoorKey/env_MiniGrid-DoorKey-16x16-v0-ep_12-return_0.9820703268051147-frames_51.0/annotations.csv\n",
      "feature_dir/DoorKey/env_MiniGrid-DoorKey-16x16-v0-ep_30-return_0.980664074420929-frames_55.0/annotations.csv\n",
      "feature_dir/DoorKey/env_MiniGrid-DoorKey-16x16-v0-ep_42-return_0.9898046851158142-frames_29.0/annotations.csv\n",
      "feature_dir/DoorKey/env_MiniGrid-DoorKey-16x16-v0-ep_74-return_0.9796093702316284-frames_58.0/annotations.csv\n",
      "feature_dir/DoorKey/env_MiniGrid-DoorKey-16x16-v0-ep_9-return_0.9782031178474426-frames_62.0/annotations.csv\n",
      "feature_dir/DoorKey/env_MiniGrid-DoorKey-16x16-v0-ep_27-return_0.9876953363418579-frames_35.0/annotations.csv\n",
      "feature_dir/DoorKey/env_MiniGrid-DoorKey-16x16-v0-ep_65-return_0.9817187786102295-frames_52.0/annotations.csv\n",
      "feature_dir/DoorKey/env_MiniGrid-DoorKey-16x16-v0-ep_1-return_0.9876953363418579-frames_35.0/annotations.csv\n",
      "feature_dir/DoorKey/env_MiniGrid-DoorKey-16x16-v0-ep_50-return_0.9785546660423279-frames_61.0/annotations.csv\n",
      "feature_dir/DoorKey/env_MiniGrid-DoorKey-16x16-v0-ep_33-return_0.9803125262260437-frames_56.0/annotations.csv\n",
      "feature_dir/DoorKey/env_MiniGrid-DoorKey-16x16-v0-ep_32-return_0.980664074420929-frames_55.0/annotations.csv\n",
      "feature_dir/DoorKey/env_MiniGrid-DoorKey-16x16-v0-ep_3-return_0.9725781083106995-frames_78.0/annotations.csv\n",
      "feature_dir/DoorKey/env_MiniGrid-DoorKey-16x16-v0-ep_97-return_0.9817187786102295-frames_52.0/annotations.csv\n",
      "feature_dir/DoorKey/env_MiniGrid-DoorKey-16x16-v0-ep_34-return_0.980664074420929-frames_55.0/annotations.csv\n",
      "feature_dir/DoorKey/env_MiniGrid-DoorKey-16x16-v0-ep_4-return_0.9876953363418579-frames_35.0/annotations.csv\n",
      "feature_dir/DoorKey/env_MiniGrid-DoorKey-16x16-v0-ep_2-return_0.9817187786102295-frames_52.0/annotations.csv\n",
      "feature_dir/DoorKey/env_MiniGrid-DoorKey-16x16-v0-ep_6-return_0.980664074420929-frames_55.0/annotations.csv\n",
      "feature_dir/DoorKey/env_MiniGrid-DoorKey-16x16-v0-ep_77-return_0.9732812643051147-frames_76.0/annotations.csv\n",
      "feature_dir/DoorKey/env_MiniGrid-DoorKey-16x16-v0-ep_96-return_0.984179675579071-frames_45.0/annotations.csv\n",
      "feature_dir/DoorKey/env_MiniGrid-DoorKey-16x16-v0-ep_54-return_0.9764453172683716-frames_67.0/annotations.csv\n",
      "feature_dir/DoorKey/env_MiniGrid-DoorKey-16x16-v0-ep_91-return_0.9820703268051147-frames_51.0/annotations.csv\n",
      "feature_dir/DoorKey/env_MiniGrid-DoorKey-16x16-v0-ep_47-return_0.9838281273841858-frames_46.0/annotations.csv\n",
      "feature_dir/DoorKey/env_MiniGrid-DoorKey-16x16-v0-ep_66-return_0.9866406321525574-frames_38.0/annotations.csv\n",
      "feature_dir/DoorKey/env_MiniGrid-DoorKey-16x16-v0-ep_18-return_0.9873437285423279-frames_36.0/annotations.csv\n",
      "feature_dir/DoorKey/env_MiniGrid-DoorKey-16x16-v0-ep_14-return_0.9831249713897705-frames_48.0/annotations.csv\n",
      "feature_dir/DoorKey/env_MiniGrid-DoorKey-16x16-v0-ep_58-return_0.9771484136581421-frames_65.0/annotations.csv\n",
      "feature_dir/DoorKey/env_MiniGrid-DoorKey-16x16-v0-ep_76-return_0.9704687595367432-frames_84.0/annotations.csv\n",
      "feature_dir/DoorKey/env_MiniGrid-DoorKey-16x16-v0-ep_44-return_0.9845312237739563-frames_44.0/annotations.csv\n",
      "feature_dir/DoorKey/env_MiniGrid-DoorKey-16x16-v0-ep_84-return_0.984179675579071-frames_45.0/annotations.csv\n",
      "feature_dir/DoorKey/env_MiniGrid-DoorKey-16x16-v0-ep_86-return_0.9866406321525574-frames_38.0/annotations.csv\n",
      "feature_dir/DoorKey/env_MiniGrid-DoorKey-16x16-v0-ep_13-return_0.9746875166893005-frames_72.0/annotations.csv\n",
      "feature_dir/DoorKey/env_MiniGrid-DoorKey-16x16-v0-ep_21-return_0.9852343797683716-frames_42.0/annotations.csv\n",
      "feature_dir/DoorKey/env_MiniGrid-DoorKey-16x16-v0-ep_70-return_0.9831249713897705-frames_48.0/annotations.csv\n",
      "feature_dir/DoorKey/env_MiniGrid-DoorKey-16x16-v0-ep_53-return_0.9855859279632568-frames_41.0/annotations.csv\n",
      "feature_dir/DoorKey/env_MiniGrid-DoorKey-16x16-v0-ep_25-return_0.982421875-frames_50.0/annotations.csv\n",
      "feature_dir/DoorKey/env_MiniGrid-DoorKey-16x16-v0-ep_63-return_0.9883984327316284-frames_33.0/annotations.csv\n",
      "feature_dir/DoorKey/env_MiniGrid-DoorKey-16x16-v0-ep_8-return_0.982421875-frames_50.0/annotations.csv\n",
      "feature_dir/DoorKey/env_MiniGrid-DoorKey-16x16-v0-ep_52-return_0.9782031178474426-frames_62.0/annotations.csv\n",
      "feature_dir/DoorKey/env_MiniGrid-DoorKey-16x16-v0-ep_5-return_0.9852343797683716-frames_42.0/annotations.csv\n",
      "feature_dir/DoorKey/env_MiniGrid-DoorKey-16x16-v0-ep_24-return_0.9845312237739563-frames_44.0/annotations.csv\n",
      "feature_dir/DoorKey/env_MiniGrid-DoorKey-16x16-v0-ep_22-return_0.9817187786102295-frames_52.0/annotations.csv\n",
      "feature_dir/DoorKey/env_MiniGrid-DoorKey-16x16-v0-ep_60-return_0.9838281273841858-frames_46.0/annotations.csv\n",
      "feature_dir/DoorKey/env_MiniGrid-DoorKey-16x16-v0-ep_73-return_0.9905078411102295-frames_27.0/annotations.csv\n",
      "feature_dir/DoorKey/env_MiniGrid-DoorKey-16x16-v0-ep_81-return_0.9817187786102295-frames_52.0/annotations.csv\n",
      "feature_dir/DoorKey/env_MiniGrid-DoorKey-16x16-v0-ep_15-return_0.9862890839576721-frames_39.0/annotations.csv\n",
      "feature_dir/DoorKey/env_MiniGrid-DoorKey-16x16-v0-ep_16-return_0.9743359088897705-frames_73.0/annotations.csv\n",
      "feature_dir/DoorKey/env_MiniGrid-DoorKey-16x16-v0-ep_20-return_0.9852343797683716-frames_42.0/annotations.csv\n",
      "feature_dir/DoorKey/env_MiniGrid-DoorKey-16x16-v0-ep_92-return_0.9838281273841858-frames_46.0/annotations.csv\n",
      "feature_dir/DoorKey/env_MiniGrid-DoorKey-16x16-v0-ep_48-return_0.9862890839576721-frames_39.0/annotations.csv\n",
      "feature_dir/DoorKey/env_MiniGrid-DoorKey-16x16-v0-ep_45-return_0.9852343797683716-frames_42.0/annotations.csv\n",
      "feature_dir/DoorKey/env_MiniGrid-DoorKey-16x16-v0-ep_79-return_0.9852343797683716-frames_42.0/annotations.csv\n",
      "feature_dir/DoorKey/env_MiniGrid-DoorKey-16x16-v0-ep_28-return_0.9905078411102295-frames_27.0/annotations.csv\n",
      "feature_dir/DoorKey/env_MiniGrid-DoorKey-16x16-v0-ep_17-return_0.9834765791893005-frames_47.0/annotations.csv\n",
      "feature_dir/DoorKey/env_MiniGrid-DoorKey-16x16-v0-ep_87-return_0.9855859279632568-frames_41.0/annotations.csv\n",
      "feature_dir/DoorKey/env_MiniGrid-DoorKey-16x16-v0-ep_95-return_0.9862890839576721-frames_39.0/annotations.csv\n",
      "feature_dir/DoorKey/env_MiniGrid-DoorKey-16x16-v0-ep_31-return_0.9859374761581421-frames_40.0/annotations.csv\n",
      "feature_dir/DoorKey/env_MiniGrid-DoorKey-16x16-v0-ep_61-return_0.9767968654632568-frames_66.0/annotations.csv\n",
      "feature_dir/DoorKey/env_MiniGrid-DoorKey-16x16-v0-ep_99-return_0.9778515696525574-frames_63.0/annotations.csv\n",
      "feature_dir/DoorKey/env_MiniGrid-DoorKey-16x16-v0-ep_68-return_0.971875011920929-frames_80.0/annotations.csv\n",
      "feature_dir/DoorKey/env_MiniGrid-DoorKey-16x16-v0-ep_19-return_0.9901562333106995-frames_28.0/annotations.csv\n",
      "feature_dir/DoorKey/env_MiniGrid-DoorKey-16x16-v0-ep_90-return_0.9908593893051147-frames_26.0/annotations.csv\n",
      "feature_dir/DoorKey/env_MiniGrid-DoorKey-16x16-v0-ep_82-return_0.9883984327316284-frames_33.0/annotations.csv\n",
      "feature_dir/DoorKey/env_MiniGrid-DoorKey-16x16-v0-ep_46-return_0.9862890839576721-frames_39.0/annotations.csv\n",
      "feature_dir/DoorKey/env_MiniGrid-DoorKey-16x16-v0-ep_93-return_0.9869921803474426-frames_37.0/annotations.csv\n",
      "feature_dir/DoorKey/env_MiniGrid-DoorKey-16x16-v0-ep_80-return_0.9869921803474426-frames_37.0/annotations.csv\n",
      "feature_dir/DoorKey/env_MiniGrid-DoorKey-16x16-v0-ep_37-return_0.9687109589576721-frames_89.0/annotations.csv\n",
      "feature_dir/DoorKey/env_MiniGrid-DoorKey-16x16-v0-ep_36-return_0.9813671708106995-frames_53.0/annotations.csv\n",
      "feature_dir/DoorKey/env_MiniGrid-DoorKey-16x16-v0-ep_7-return_0.9817187786102295-frames_52.0/annotations.csv\n",
      "feature_dir/DoorKey/env_MiniGrid-DoorKey-16x16-v0-ep_57-return_0.9901562333106995-frames_28.0/annotations.csv\n",
      "feature_dir/DoorKey/env_MiniGrid-DoorKey-16x16-v0-ep_67-return_0.9862890839576721-frames_39.0/annotations.csv\n",
      "feature_dir/DoorKey/env_MiniGrid-DoorKey-16x16-v0-ep_38-return_0.9891015887260437-frames_31.0/annotations.csv\n",
      "feature_dir/DoorKey/env_MiniGrid-DoorKey-16x16-v0-ep_89-return_0.9891015887260437-frames_31.0/annotations.csv\n",
      "feature_dir/DoorKey/env_MiniGrid-DoorKey-16x16-v0-ep_41-return_0.9852343797683716-frames_42.0/annotations.csv\n",
      "feature_dir/DoorKey/env_MiniGrid-DoorKey-16x16-v0-ep_59-return_0.9683593511581421-frames_90.0/annotations.csv\n",
      "feature_dir/DoorKey/env_MiniGrid-DoorKey-16x16-v0-ep_29-return_0.9827734231948853-frames_49.0/annotations.csv\n",
      "feature_dir/DoorKey/env_MiniGrid-DoorKey-16x16-v0-ep_71-return_0.9771484136581421-frames_65.0/annotations.csv\n",
      "feature_dir/DoorKey/env_MiniGrid-DoorKey-16x16-v0-ep_26-return_0.9739843606948853-frames_74.0/annotations.csv\n",
      "feature_dir/DoorKey/env_MiniGrid-DoorKey-16x16-v0-ep_62-return_0.9898046851158142-frames_29.0/annotations.csv\n",
      "feature_dir/DoorKey/env_MiniGrid-DoorKey-16x16-v0-ep_72-return_0.9641406536102295-frames_102.0/annotations.csv\n",
      "feature_dir/DoorKey/env_MiniGrid-DoorKey-16x16-v0-ep_43-return_0.9876953363418579-frames_35.0/annotations.csv\n",
      "feature_dir/DoorKey/env_MiniGrid-DoorKey-16x16-v0-ep_39-return_0.9883984327316284-frames_33.0/annotations.csv\n",
      "feature_dir/DoorKey/env_MiniGrid-DoorKey-16x16-v0-ep_75-return_0.9838281273841858-frames_46.0/annotations.csv\n",
      "feature_dir/DoorKey/env_MiniGrid-DoorKey-16x16-v0-ep_94-return_0.9855859279632568-frames_41.0/annotations.csv\n",
      "feature_dir/DoorKey/env_MiniGrid-DoorKey-16x16-v0-ep_100-return_0.9866406321525574-frames_38.0/annotations.csv\n",
      "feature_dir/DoorKey/env_MiniGrid-DoorKey-16x16-v0-ep_64-return_0.9859374761581421-frames_40.0/annotations.csv\n",
      "feature_dir/DoorKey/env_MiniGrid-DoorKey-16x16-v0-ep_83-return_0.9658984541893005-frames_97.0/annotations.csv\n",
      "feature_dir/DoorKey/env_MiniGrid-DoorKey-16x16-v0-ep_55-return_0.9831249713897705-frames_48.0/annotations.csv\n",
      "feature_dir/DoorKey/env_MiniGrid-DoorKey-16x16-v0-ep_51-return_0.9859374761581421-frames_40.0/annotations.csv\n",
      "feature_dir/DoorKey/env_MiniGrid-DoorKey-16x16-v0-ep_98-return_0.9732812643051147-frames_76.0/annotations.csv\n",
      "feature_dir/DoorKey/env_MiniGrid-DoorKey-16x16-v0-ep_11-return_0.9746875166893005-frames_72.0/annotations.csv\n",
      "feature_dir/DoorKey/env_MiniGrid-DoorKey-16x16-v0-ep_35-return_0.982421875-frames_50.0/annotations.csv\n",
      "feature_dir/DoorKey/env_MiniGrid-DoorKey-16x16-v0-ep_85-return_0.9883984327316284-frames_33.0/annotations.csv\n",
      "feature_dir/DoorKey/env_MiniGrid-DoorKey-16x16-v0-ep_56-return_0.9887499809265137-frames_32.0/annotations.csv\n",
      "feature_dir/DoorKey/env_MiniGrid-DoorKey-16x16-v0-ep_10-return_0.982421875-frames_50.0/annotations.csv\n",
      "feature_dir/DoorKey/env_MiniGrid-DoorKey-16x16-v0-ep_69-return_0.9834765791893005-frames_47.0/annotations.csv\n",
      "feature_dir/DoorKey/env_MiniGrid-DoorKey-16x16-v0-ep_23-return_0.9831249713897705-frames_48.0/annotations.csv\n",
      "feature_dir/DoorKey/env_MiniGrid-DoorKey-16x16-v0-ep_78-return_0.9799609184265137-frames_57.0/annotations.csv\n",
      "feature_dir/DoorKey/env_MiniGrid-DoorKey-16x16-v0-ep_49-return_0.9859374761581421-frames_40.0/annotations.csv\n",
      "feature_dir/DoorKey/env_MiniGrid-DoorKey-16x16-v0-ep_88-return_0.9782031178474426-frames_62.0/annotations.csv\n",
      "feature_dir/DoorKey/env_MiniGrid-DoorKey-16x16-v0-ep_40-return_0.980664074420929-frames_55.0/annotations.csv\n"
     ]
    }
   ],
   "source": [
    "root = 'feature_dir/DoorKey/'\n",
    "DIRS = [os.path.join(root,DIR) for DIR in os.listdir('feature_dir/DoorKey/')]\n",
    "for DIR in DIRS:\n",
    "    annotation_path = os.path.join(DIR, 'annotations.csv')\n",
    "    annotations = annotate_obs(DIR, plot=False)\n",
    "    annotations.to_csv(annotation_path)\n",
    "    print(annotation_path)"
   ]
  },
  {
   "cell_type": "code",
   "execution_count": 117,
   "metadata": {
    "scrolled": false
   },
   "outputs": [
    {
     "name": "stdout",
     "output_type": "stream",
     "text": [
      "observation 1. see door:True, door locked:True,, see key:False, has key:False, see goal:False, done: 0.0\n"
     ]
    },
    {
     "data": {
      "image/png": "[encoded data removed]",
      "text/plain": [
       "<Figure size 432x288 with 1 Axes>"
      ]
     },
     "metadata": {},
     "output_type": "display_data"
    },
    {
     "name": "stdout",
     "output_type": "stream",
     "text": [
      "observation 2. see door:True, door locked:True,, see key:False, has key:False, see goal:False, done: 0.0\n"
     ]
    },
    {
     "data": {
      "image/png": "[encoded data removed]",
      "text/plain": [
       "<Figure size 432x288 with 1 Axes>"
      ]
     },
     "metadata": {},
     "output_type": "display_data"
    },
    {
     "name": "stdout",
     "output_type": "stream",
     "text": [
      "observation 3. see door:False, door locked:True,, see key:True, has key:False, see goal:False, done: 0.0\n"
     ]
    },
    {
     "data": {
      "image/png": "[encoded data removed]",
      "text/plain": [
       "<Figure size 432x288 with 1 Axes>"
      ]
     },
     "metadata": {},
     "output_type": "display_data"
    },
    {
     "name": "stdout",
     "output_type": "stream",
     "text": [
      "observation 4. see door:False, door locked:True,, see key:True, has key:False, see goal:False, done: 0.0\n"
     ]
    },
    {
     "data": {
      "image/png": "[encoded data removed]",
      "text/plain": [
       "<Figure size 432x288 with 1 Axes>"
      ]
     },
     "metadata": {},
     "output_type": "display_data"
    },
    {
     "name": "stdout",
     "output_type": "stream",
     "text": [
      "observation 5. see door:False, door locked:True,, see key:True, has key:False, see goal:False, done: 0.0\n"
     ]
    },
    {
     "data": {
      "image/png": "[encoded data removed]",
      "text/plain": [
       "<Figure size 432x288 with 1 Axes>"
      ]
     },
     "metadata": {},
     "output_type": "display_data"
    },
    {
     "name": "stdout",
     "output_type": "stream",
     "text": [
      "observation 6. see door:False, door locked:True,, see key:True, has key:False, see goal:False, done: 0.0\n"
     ]
    },
    {
     "data": {
      "image/png": "[encoded data removed]",
      "text/plain": [
       "<Figure size 432x288 with 1 Axes>"
      ]
     },
     "metadata": {},
     "output_type": "display_data"
    },
    {
     "name": "stdout",
     "output_type": "stream",
     "text": [
      "observation 7. see door:False, door locked:True,, see key:True, has key:False, see goal:False, done: 0.0\n"
     ]
    },
    {
     "data": {
      "image/png": "[encoded data removed]",
      "text/plain": [
       "<Figure size 432x288 with 1 Axes>"
      ]
     },
     "metadata": {},
     "output_type": "display_data"
    },
    {
     "name": "stdout",
     "output_type": "stream",
     "text": [
      "observation 8. see door:False, door locked:True,, see key:True, has key:False, see goal:False, done: 0.0\n"
     ]
    },
    {
     "data": {
      "image/png": "[encoded data removed]",
      "text/plain": [
       "<Figure size 432x288 with 1 Axes>"
      ]
     },
     "metadata": {},
     "output_type": "display_data"
    },
    {
     "name": "stdout",
     "output_type": "stream",
     "text": [
      "observation 9. see door:False, door locked:True,, see key:False, has key:True, see goal:False, done: 0.0\n"
     ]
    },
    {
     "data": {
      "image/png": "[encoded data removed]",
      "text/plain": [
       "<Figure size 432x288 with 1 Axes>"
      ]
     },
     "metadata": {},
     "output_type": "display_data"
    },
    {
     "name": "stdout",
     "output_type": "stream",
     "text": [
      "observation 10. see door:False, door locked:True,, see key:False, has key:True, see goal:False, done: 0.0\n"
     ]
    },
    {
     "data": {
      "image/png": "[encoded data removed]",
      "text/plain": [
       "<Figure size 432x288 with 1 Axes>"
      ]
     },
     "metadata": {},
     "output_type": "display_data"
    },
    {
     "name": "stdout",
     "output_type": "stream",
     "text": [
      "observation 11. see door:False, door locked:True,, see key:False, has key:True, see goal:False, done: 0.0\n"
     ]
    },
    {
     "data": {
      "image/png": "[encoded data removed]",
      "text/plain": [
       "<Figure size 432x288 with 1 Axes>"
      ]
     },
     "metadata": {},
     "output_type": "display_data"
    },
    {
     "name": "stdout",
     "output_type": "stream",
     "text": [
      "observation 12. see door:False, door locked:True,, see key:False, has key:True, see goal:False, done: 0.0\n"
     ]
    },
    {
     "data": {
      "image/png": "[encoded data removed]",
      "text/plain": [
       "<Figure size 432x288 with 1 Axes>"
      ]
     },
     "metadata": {},
     "output_type": "display_data"
    },
    {
     "name": "stdout",
     "output_type": "stream",
     "text": [
      "observation 13. see door:True, door locked:True,, see key:False, has key:True, see goal:False, done: 0.0\n"
     ]
    },
    {
     "data": {
      "image/png": "[encoded data removed]",
      "text/plain": [
       "<Figure size 432x288 with 1 Axes>"
      ]
     },
     "metadata": {},
     "output_type": "display_data"
    },
    {
     "name": "stdout",
     "output_type": "stream",
     "text": [
      "observation 14. see door:True, door locked:True,, see key:False, has key:True, see goal:False, done: 0.0\n"
     ]
    },
    {
     "data": {
      "image/png": "[encoded data removed]",
      "text/plain": [
       "<Figure size 432x288 with 1 Axes>"
      ]
     },
     "metadata": {},
     "output_type": "display_data"
    },
    {
     "name": "stdout",
     "output_type": "stream",
     "text": [
      "observation 15. see door:True, door locked:True,, see key:False, has key:True, see goal:False, done: 0.0\n"
     ]
    },
    {
     "data": {
      "image/png": "[encoded data removed]",
      "text/plain": [
       "<Figure size 432x288 with 1 Axes>"
      ]
     },
     "metadata": {},
     "output_type": "display_data"
    },
    {
     "name": "stdout",
     "output_type": "stream",
     "text": [
      "observation 16. see door:True, door locked:True,, see key:False, has key:True, see goal:False, done: 0.0\n"
     ]
    },
    {
     "data": {
      "image/png": "[encoded data removed]",
      "text/plain": [
       "<Figure size 432x288 with 1 Axes>"
      ]
     },
     "metadata": {},
     "output_type": "display_data"
    },
    {
     "name": "stdout",
     "output_type": "stream",
     "text": [
      "observation 17. see door:True, door locked:True,, see key:False, has key:True, see goal:False, done: 0.0\n"
     ]
    },
    {
     "data": {
      "image/png": "[encoded data removed]",
      "text/plain": [
       "<Figure size 432x288 with 1 Axes>"
      ]
     },
     "metadata": {},
     "output_type": "display_data"
    },
    {
     "name": "stdout",
     "output_type": "stream",
     "text": [
      "observation 18. see door:True, door locked:True,, see key:False, has key:True, see goal:False, done: 0.0\n"
     ]
    },
    {
     "data": {
      "image/png": "[encoded data removed]",
      "text/plain": [
       "<Figure size 432x288 with 1 Axes>"
      ]
     },
     "metadata": {},
     "output_type": "display_data"
    },
    {
     "name": "stdout",
     "output_type": "stream",
     "text": [
      "observation 19. see door:True, door locked:True,, see key:False, has key:True, see goal:False, done: 0.0\n"
     ]
    },
    {
     "data": {
      "image/png": "[encoded data removed]",
      "text/plain": [
       "<Figure size 432x288 with 1 Axes>"
      ]
     },
     "metadata": {},
     "output_type": "display_data"
    },
    {
     "name": "stdout",
     "output_type": "stream",
     "text": [
      "observation 20. see door:True, door locked:True,, see key:False, has key:True, see goal:False, done: 0.0\n"
     ]
    },
    {
     "data": {
      "image/png": "[encoded data removed]",
      "text/plain": [
       "<Figure size 432x288 with 1 Axes>"
      ]
     },
     "metadata": {},
     "output_type": "display_data"
    },
    {
     "name": "stdout",
     "output_type": "stream",
     "text": [
      "observation 21. see door:True, door locked:False,, see key:False, has key:True, see goal:False, done: 0.0\n"
     ]
    },
    {
     "data": {
      "image/png": "[encoded data removed]",
      "text/plain": [
       "<Figure size 432x288 with 1 Axes>"
      ]
     },
     "metadata": {},
     "output_type": "display_data"
    },
    {
     "name": "stdout",
     "output_type": "stream",
     "text": [
      "observation 22. see door:False, door locked:False,, see key:False, has key:True, see goal:False, done: 0.0\n"
     ]
    },
    {
     "data": {
      "image/png": "[encoded data removed]",
      "text/plain": [
       "<Figure size 432x288 with 1 Axes>"
      ]
     },
     "metadata": {},
     "output_type": "display_data"
    },
    {
     "name": "stdout",
     "output_type": "stream",
     "text": [
      "observation 23. see door:False, door locked:False,, see key:False, has key:True, see goal:False, done: 0.0\n"
     ]
    },
    {
     "data": {
      "image/png": "[encoded data removed]",
      "text/plain": [
       "<Figure size 432x288 with 1 Axes>"
      ]
     },
     "metadata": {},
     "output_type": "display_data"
    },
    {
     "name": "stdout",
     "output_type": "stream",
     "text": [
      "observation 24. see door:False, door locked:False,, see key:False, has key:True, see goal:False, done: 0.0\n"
     ]
    },
    {
     "data": {
      "image/png": "[encoded data removed]",
      "text/plain": [
       "<Figure size 432x288 with 1 Axes>"
      ]
     },
     "metadata": {},
     "output_type": "display_data"
    },
    {
     "name": "stdout",
     "output_type": "stream",
     "text": [
      "observation 25. see door:False, door locked:False,, see key:False, has key:True, see goal:False, done: 0.0\n"
     ]
    },
    {
     "data": {
      "image/png": "[encoded data removed]",
      "text/plain": [
       "<Figure size 432x288 with 1 Axes>"
      ]
     },
     "metadata": {},
     "output_type": "display_data"
    },
    {
     "name": "stdout",
     "output_type": "stream",
     "text": [
      "observation 26. see door:False, door locked:False,, see key:False, has key:True, see goal:False, done: 0.0\n"
     ]
    },
    {
     "data": {
      "image/png": "[encoded data removed]",
      "text/plain": [
       "<Figure size 432x288 with 1 Axes>"
      ]
     },
     "metadata": {},
     "output_type": "display_data"
    },
    {
     "name": "stdout",
     "output_type": "stream",
     "text": [
      "observation 27. see door:False, door locked:False,, see key:False, has key:True, see goal:False, done: 0.0\n"
     ]
    },
    {
     "data": {
      "image/png": "[encoded data removed]",
      "text/plain": [
       "<Figure size 432x288 with 1 Axes>"
      ]
     },
     "metadata": {},
     "output_type": "display_data"
    },
    {
     "name": "stderr",
     "output_type": "stream",
     "text": [
      "Clipping input data to the valid range for imshow with RGB data ([0..1] for floats or [0..255] for integers).\n"
     ]
    },
    {
     "name": "stdout",
     "output_type": "stream",
     "text": [
      "observation 28. see door:False, door locked:False,, see key:False, has key:True, see goal:True, done: 0.0\n"
     ]
    },
    {
     "data": {
      "image/png": "[encoded data removed]",
      "text/plain": [
       "<Figure size 432x288 with 1 Axes>"
      ]
     },
     "metadata": {},
     "output_type": "display_data"
    },
    {
     "name": "stderr",
     "output_type": "stream",
     "text": [
      "Clipping input data to the valid range for imshow with RGB data ([0..1] for floats or [0..255] for integers).\n"
     ]
    },
    {
     "name": "stdout",
     "output_type": "stream",
     "text": [
      "observation 29. see door:False, door locked:False,, see key:False, has key:True, see goal:True, done: 0.0\n"
     ]
    },
    {
     "data": {
      "image/png": "[encoded data removed]",
      "text/plain": [
       "<Figure size 432x288 with 1 Axes>"
      ]
     },
     "metadata": {},
     "output_type": "display_data"
    },
    {
     "name": "stderr",
     "output_type": "stream",
     "text": [
      "Clipping input data to the valid range for imshow with RGB data ([0..1] for floats or [0..255] for integers).\n"
     ]
    },
    {
     "name": "stdout",
     "output_type": "stream",
     "text": [
      "observation 30. see door:False, door locked:False,, see key:False, has key:True, see goal:True, done: 0.0\n"
     ]
    },
    {
     "data": {
      "image/png": "[encoded data removed]",
      "text/plain": [
       "<Figure size 432x288 with 1 Axes>"
      ]
     },
     "metadata": {},
     "output_type": "display_data"
    },
    {
     "name": "stderr",
     "output_type": "stream",
     "text": [
      "Clipping input data to the valid range for imshow with RGB data ([0..1] for floats or [0..255] for integers).\n"
     ]
    },
    {
     "name": "stdout",
     "output_type": "stream",
     "text": [
      "observation 31. see door:False, door locked:False,, see key:False, has key:True, see goal:True, done: 0.0\n"
     ]
    },
    {
     "data": {
      "image/png": "[encoded data removed]",
      "text/plain": [
       "<Figure size 432x288 with 1 Axes>"
      ]
     },
     "metadata": {},
     "output_type": "display_data"
    },
    {
     "name": "stderr",
     "output_type": "stream",
     "text": [
      "Clipping input data to the valid range for imshow with RGB data ([0..1] for floats or [0..255] for integers).\n"
     ]
    },
    {
     "name": "stdout",
     "output_type": "stream",
     "text": [
      "observation 32. see door:False, door locked:False,, see key:False, has key:True, see goal:True, done: 0.0\n"
     ]
    },
    {
     "data": {
      "image/png": "[encoded data removed]",
      "text/plain": [
       "<Figure size 432x288 with 1 Axes>"
      ]
     },
     "metadata": {},
     "output_type": "display_data"
    },
    {
     "name": "stderr",
     "output_type": "stream",
     "text": [
      "Clipping input data to the valid range for imshow with RGB data ([0..1] for floats or [0..255] for integers).\n"
     ]
    },
    {
     "name": "stdout",
     "output_type": "stream",
     "text": [
      "observation 33. see door:False, door locked:False,, see key:False, has key:True, see goal:True, done: 0.0\n"
     ]
    },
    {
     "data": {
      "image/png": "[encoded data removed]",
      "text/plain": [
       "<Figure size 432x288 with 1 Axes>"
      ]
     },
     "metadata": {},
     "output_type": "display_data"
    },
    {
     "name": "stderr",
     "output_type": "stream",
     "text": [
      "Clipping input data to the valid range for imshow with RGB data ([0..1] for floats or [0..255] for integers).\n"
     ]
    },
    {
     "name": "stdout",
     "output_type": "stream",
     "text": [
      "observation 34. see door:False, door locked:False,, see key:False, has key:True, see goal:True, done: 0.0\n"
     ]
    },
    {
     "data": {
      "image/png": "[encoded data removed]",
      "text/plain": [
       "<Figure size 432x288 with 1 Axes>"
      ]
     },
     "metadata": {},
     "output_type": "display_data"
    },
    {
     "name": "stderr",
     "output_type": "stream",
     "text": [
      "Clipping input data to the valid range for imshow with RGB data ([0..1] for floats or [0..255] for integers).\n"
     ]
    },
    {
     "name": "stdout",
     "output_type": "stream",
     "text": [
      "observation 35. see door:False, door locked:False,, see key:False, has key:True, see goal:True, done: 1.0\n"
     ]
    },
    {
     "data": {
      "image/png": "[encoded data removed]",
      "text/plain": [
       "<Figure size 432x288 with 1 Axes>"
      ]
     },
     "metadata": {},
     "output_type": "display_data"
    },
    {
     "data": {
      "text/html": [
       "<div>\n",
       "<style scoped>\n",
       "    .dataframe tbody tr th:only-of-type {\n",
       "        vertical-align: middle;\n",
       "    }\n",
       "\n",
       "    .dataframe tbody tr th {\n",
       "        vertical-align: top;\n",
       "    }\n",
       "\n",
       "    .dataframe thead th {\n",
       "        text-align: right;\n",
       "    }\n",
       "</style>\n",
       "<table border=\"1\" class=\"dataframe\">\n",
       "  <thead>\n",
       "    <tr style=\"text-align: right;\">\n",
       "      <th></th>\n",
       "      <th>see_door</th>\n",
       "      <th>door_locked</th>\n",
       "      <th>see_key</th>\n",
       "      <th>has_key</th>\n",
       "      <th>see_goal</th>\n",
       "    </tr>\n",
       "  </thead>\n",
       "  <tbody>\n",
       "    <tr>\n",
       "      <th>0</th>\n",
       "      <td>True</td>\n",
       "      <td>True</td>\n",
       "      <td>False</td>\n",
       "      <td>False</td>\n",
       "      <td>False</td>\n",
       "    </tr>\n",
       "    <tr>\n",
       "      <th>1</th>\n",
       "      <td>True</td>\n",
       "      <td>True</td>\n",
       "      <td>False</td>\n",
       "      <td>False</td>\n",
       "      <td>False</td>\n",
       "    </tr>\n",
       "    <tr>\n",
       "      <th>2</th>\n",
       "      <td>False</td>\n",
       "      <td>True</td>\n",
       "      <td>True</td>\n",
       "      <td>False</td>\n",
       "      <td>False</td>\n",
       "    </tr>\n",
       "    <tr>\n",
       "      <th>3</th>\n",
       "      <td>False</td>\n",
       "      <td>True</td>\n",
       "      <td>True</td>\n",
       "      <td>False</td>\n",
       "      <td>False</td>\n",
       "    </tr>\n",
       "    <tr>\n",
       "      <th>4</th>\n",
       "      <td>False</td>\n",
       "      <td>True</td>\n",
       "      <td>True</td>\n",
       "      <td>False</td>\n",
       "      <td>False</td>\n",
       "    </tr>\n",
       "    <tr>\n",
       "      <th>5</th>\n",
       "      <td>False</td>\n",
       "      <td>True</td>\n",
       "      <td>True</td>\n",
       "      <td>False</td>\n",
       "      <td>False</td>\n",
       "    </tr>\n",
       "    <tr>\n",
       "      <th>6</th>\n",
       "      <td>False</td>\n",
       "      <td>True</td>\n",
       "      <td>True</td>\n",
       "      <td>False</td>\n",
       "      <td>False</td>\n",
       "    </tr>\n",
       "    <tr>\n",
       "      <th>7</th>\n",
       "      <td>False</td>\n",
       "      <td>True</td>\n",
       "      <td>True</td>\n",
       "      <td>False</td>\n",
       "      <td>False</td>\n",
       "    </tr>\n",
       "    <tr>\n",
       "      <th>8</th>\n",
       "      <td>False</td>\n",
       "      <td>True</td>\n",
       "      <td>False</td>\n",
       "      <td>True</td>\n",
       "      <td>False</td>\n",
       "    </tr>\n",
       "    <tr>\n",
       "      <th>9</th>\n",
       "      <td>False</td>\n",
       "      <td>True</td>\n",
       "      <td>False</td>\n",
       "      <td>True</td>\n",
       "      <td>False</td>\n",
       "    </tr>\n",
       "    <tr>\n",
       "      <th>10</th>\n",
       "      <td>False</td>\n",
       "      <td>True</td>\n",
       "      <td>False</td>\n",
       "      <td>True</td>\n",
       "      <td>False</td>\n",
       "    </tr>\n",
       "    <tr>\n",
       "      <th>11</th>\n",
       "      <td>False</td>\n",
       "      <td>True</td>\n",
       "      <td>False</td>\n",
       "      <td>True</td>\n",
       "      <td>False</td>\n",
       "    </tr>\n",
       "    <tr>\n",
       "      <th>12</th>\n",
       "      <td>True</td>\n",
       "      <td>True</td>\n",
       "      <td>False</td>\n",
       "      <td>True</td>\n",
       "      <td>False</td>\n",
       "    </tr>\n",
       "    <tr>\n",
       "      <th>13</th>\n",
       "      <td>True</td>\n",
       "      <td>True</td>\n",
       "      <td>False</td>\n",
       "      <td>True</td>\n",
       "      <td>False</td>\n",
       "    </tr>\n",
       "    <tr>\n",
       "      <th>14</th>\n",
       "      <td>True</td>\n",
       "      <td>True</td>\n",
       "      <td>False</td>\n",
       "      <td>True</td>\n",
       "      <td>False</td>\n",
       "    </tr>\n",
       "    <tr>\n",
       "      <th>15</th>\n",
       "      <td>True</td>\n",
       "      <td>True</td>\n",
       "      <td>False</td>\n",
       "      <td>True</td>\n",
       "      <td>False</td>\n",
       "    </tr>\n",
       "    <tr>\n",
       "      <th>16</th>\n",
       "      <td>True</td>\n",
       "      <td>True</td>\n",
       "      <td>False</td>\n",
       "      <td>True</td>\n",
       "      <td>False</td>\n",
       "    </tr>\n",
       "    <tr>\n",
       "      <th>17</th>\n",
       "      <td>True</td>\n",
       "      <td>True</td>\n",
       "      <td>False</td>\n",
       "      <td>True</td>\n",
       "      <td>False</td>\n",
       "    </tr>\n",
       "    <tr>\n",
       "      <th>18</th>\n",
       "      <td>True</td>\n",
       "      <td>True</td>\n",
       "      <td>False</td>\n",
       "      <td>True</td>\n",
       "      <td>False</td>\n",
       "    </tr>\n",
       "    <tr>\n",
       "      <th>19</th>\n",
       "      <td>True</td>\n",
       "      <td>True</td>\n",
       "      <td>False</td>\n",
       "      <td>True</td>\n",
       "      <td>False</td>\n",
       "    </tr>\n",
       "    <tr>\n",
       "      <th>20</th>\n",
       "      <td>True</td>\n",
       "      <td>False</td>\n",
       "      <td>False</td>\n",
       "      <td>True</td>\n",
       "      <td>False</td>\n",
       "    </tr>\n",
       "    <tr>\n",
       "      <th>21</th>\n",
       "      <td>False</td>\n",
       "      <td>False</td>\n",
       "      <td>False</td>\n",
       "      <td>True</td>\n",
       "      <td>False</td>\n",
       "    </tr>\n",
       "    <tr>\n",
       "      <th>22</th>\n",
       "      <td>False</td>\n",
       "      <td>False</td>\n",
       "      <td>False</td>\n",
       "      <td>True</td>\n",
       "      <td>False</td>\n",
       "    </tr>\n",
       "    <tr>\n",
       "      <th>23</th>\n",
       "      <td>False</td>\n",
       "      <td>False</td>\n",
       "      <td>False</td>\n",
       "      <td>True</td>\n",
       "      <td>False</td>\n",
       "    </tr>\n",
       "    <tr>\n",
       "      <th>24</th>\n",
       "      <td>False</td>\n",
       "      <td>False</td>\n",
       "      <td>False</td>\n",
       "      <td>True</td>\n",
       "      <td>False</td>\n",
       "    </tr>\n",
       "    <tr>\n",
       "      <th>25</th>\n",
       "      <td>False</td>\n",
       "      <td>False</td>\n",
       "      <td>False</td>\n",
       "      <td>True</td>\n",
       "      <td>False</td>\n",
       "    </tr>\n",
       "    <tr>\n",
       "      <th>26</th>\n",
       "      <td>False</td>\n",
       "      <td>False</td>\n",
       "      <td>False</td>\n",
       "      <td>True</td>\n",
       "      <td>False</td>\n",
       "    </tr>\n",
       "    <tr>\n",
       "      <th>27</th>\n",
       "      <td>False</td>\n",
       "      <td>False</td>\n",
       "      <td>False</td>\n",
       "      <td>True</td>\n",
       "      <td>True</td>\n",
       "    </tr>\n",
       "    <tr>\n",
       "      <th>28</th>\n",
       "      <td>False</td>\n",
       "      <td>False</td>\n",
       "      <td>False</td>\n",
       "      <td>True</td>\n",
       "      <td>True</td>\n",
       "    </tr>\n",
       "    <tr>\n",
       "      <th>29</th>\n",
       "      <td>False</td>\n",
       "      <td>False</td>\n",
       "      <td>False</td>\n",
       "      <td>True</td>\n",
       "      <td>True</td>\n",
       "    </tr>\n",
       "    <tr>\n",
       "      <th>30</th>\n",
       "      <td>False</td>\n",
       "      <td>False</td>\n",
       "      <td>False</td>\n",
       "      <td>True</td>\n",
       "      <td>True</td>\n",
       "    </tr>\n",
       "    <tr>\n",
       "      <th>31</th>\n",
       "      <td>False</td>\n",
       "      <td>False</td>\n",
       "      <td>False</td>\n",
       "      <td>True</td>\n",
       "      <td>True</td>\n",
       "    </tr>\n",
       "    <tr>\n",
       "      <th>32</th>\n",
       "      <td>False</td>\n",
       "      <td>False</td>\n",
       "      <td>False</td>\n",
       "      <td>True</td>\n",
       "      <td>True</td>\n",
       "    </tr>\n",
       "    <tr>\n",
       "      <th>33</th>\n",
       "      <td>False</td>\n",
       "      <td>False</td>\n",
       "      <td>False</td>\n",
       "      <td>True</td>\n",
       "      <td>True</td>\n",
       "    </tr>\n",
       "    <tr>\n",
       "      <th>34</th>\n",
       "      <td>False</td>\n",
       "      <td>False</td>\n",
       "      <td>False</td>\n",
       "      <td>True</td>\n",
       "      <td>True</td>\n",
       "    </tr>\n",
       "  </tbody>\n",
       "</table>\n",
       "</div>"
      ],
      "text/plain": [
       "    see_door  door_locked  see_key  has_key  see_goal\n",
       "0       True         True    False    False     False\n",
       "1       True         True    False    False     False\n",
       "2      False         True     True    False     False\n",
       "3      False         True     True    False     False\n",
       "4      False         True     True    False     False\n",
       "5      False         True     True    False     False\n",
       "6      False         True     True    False     False\n",
       "7      False         True     True    False     False\n",
       "8      False         True    False     True     False\n",
       "9      False         True    False     True     False\n",
       "10     False         True    False     True     False\n",
       "11     False         True    False     True     False\n",
       "12      True         True    False     True     False\n",
       "13      True         True    False     True     False\n",
       "14      True         True    False     True     False\n",
       "15      True         True    False     True     False\n",
       "16      True         True    False     True     False\n",
       "17      True         True    False     True     False\n",
       "18      True         True    False     True     False\n",
       "19      True         True    False     True     False\n",
       "20      True        False    False     True     False\n",
       "21     False        False    False     True     False\n",
       "22     False        False    False     True     False\n",
       "23     False        False    False     True     False\n",
       "24     False        False    False     True     False\n",
       "25     False        False    False     True     False\n",
       "26     False        False    False     True     False\n",
       "27     False        False    False     True      True\n",
       "28     False        False    False     True      True\n",
       "29     False        False    False     True      True\n",
       "30     False        False    False     True      True\n",
       "31     False        False    False     True      True\n",
       "32     False        False    False     True      True\n",
       "33     False        False    False     True      True\n",
       "34     False        False    False     True      True"
      ]
     },
     "execution_count": 117,
     "metadata": {},
     "output_type": "execute_result"
    }
   ],
   "source": [
    "DIR = 'feature_dir/DoorKey/env_MiniGrid-DoorKey-16x16-v0-ep_1-return_0.9876953363418579-frames_35.0/'\n",
    "annotate_obs(DIR)"
   ]
  }
 ],
 "metadata": {
  "kernelspec": {
   "display_name": "am207",
   "language": "python",
   "name": "am207"
  },
  "language_info": {
   "codemirror_mode": {
    "name": "ipython",
    "version": 3
   },
   "file_extension": ".py",
   "mimetype": "text/x-python",
   "name": "python",
   "nbconvert_exporter": "python",
   "pygments_lexer": "ipython3",
   "version": "3.6.8"
  }
 },
 "nbformat": 4,
 "nbformat_minor": 2
}
